{
 "cells": [
  {
   "cell_type": "code",
   "execution_count": 4,
   "id": "461e2ffc-78ea-424d-b9d0-5be0fdc2a3ac",
   "metadata": {},
   "outputs": [],
   "source": [
    "import pandas as pd\n",
    "import numpy as np\n",
    "from clickhouse_driver import Client"
   ]
  },
  {
   "cell_type": "code",
   "execution_count": 8,
   "id": "7889671a-65d0-41ed-a27c-b464fa9fcbdb",
   "metadata": {},
   "outputs": [],
   "source": [
    "machid = 1"
   ]
  },
  {
   "cell_type": "code",
   "execution_count": 44,
   "id": "6f236401-e149-45fc-8aaa-0702092abb7d",
   "metadata": {},
   "outputs": [],
   "source": [
    "# machid=st.experimental_get_query_params()['machid'][0]\n",
    "client = Client(host='localhost', settings={'use_numpy': True})\n",
    "#data=client.query_dataframe(\"\"\"SELECT * FROM  default.mach M left join default.cpu C on M.cpuid=\n",
    "#C.cpuid where M.machid={}\"\"\".format(machid))\n",
    "cols=['machid', 'Vendor', 'System', 'Cores', 'Chips', 'Memory',\n",
    "       'MemoSize(GB)', 'MemoNum', 'Storage', 'DiskSize(TB)', 'SSD',\n",
    "       'OperatingSystem', 'OS', 'OSVersion', 'KernelVersion', 'FileSystem',\n",
    "       'Compiler', 'FC', 'FV', 'CC', 'CV', 'C++C', 'C++V', 'cpuid', 'cpu',\n",
    "       'Processor', 'ProcessorMHz', 'CPU(s)Orderable', 'Parallel',\n",
    "       'BasePointerSize', 'PeakPointerSize', 'CoresPerCPU', 'L1Dcache(KB)',\n",
    "       'L1Icache(KB)', 'L2cache(MB)', 'L3cache(MB)', 'OtherCache']\n",
    "#data.drop(\"C_cpuid\",axis=1,inplace=True)\n",
    "#data.columns=cols"
   ]
  },
  {
   "cell_type": "code",
   "execution_count": 45,
   "id": "ae5a41b6-7bd1-42d3-99b7-f93a2da0c173",
   "metadata": {},
   "outputs": [],
   "source": [
    "se_col=['System', 'Cores', 'Chips', 'Memory',\n",
    "       'MemoSize_GB_', 'MemoNum', 'Storage', 'DiskSize_TB_',\n",
    "       'OperatingSystem',  'KernelVersion', 'FileSystem','Compiler', 'cpu']"
   ]
  },
  {
   "cell_type": "code",
   "execution_count": 46,
   "id": "3e39e6f5-39e7-4d46-b0e1-971152c1fa51",
   "metadata": {},
   "outputs": [],
   "source": [
    "#同CPU其他机子\n",
    "data = client.query_dataframe(\"\"\"SELECT * FROM  default.mach M1 ,(SELECT cpu FROM  default.mach t  where t.machid={}) \n",
    "                                 M2 where M1.cpu=M2.cpu\"\"\".format(machid))\n",
    "idx = data[['System']].drop_duplicates()[:10].index\n",
    "# data.loc[idx,se_col].style.highlight_max(subset=['Cores', 'Chips', 'MemoSize_GB_',  'DiskSize_TB_'])"
   ]
  },
  {
   "cell_type": "code",
   "execution_count": 49,
   "id": "52e48df1-da88-44e6-9615-39b97d420862",
   "metadata": {},
   "outputs": [],
   "source": [
    "#同厂商其他机子\n",
    "data=client.query_dataframe(\"\"\"SELECT * FROM  default.mach M1 ,(SELECT Vendor FROM  default.mach t  where t.machid={}) \n",
    "M2 where M1.Vendor=M2.Vendor\"\"\".format(machid))\n",
    "idx=data[['System']].drop_duplicates()[:10].index\n",
    "# data.loc[idx,se_col].style.highlight_max(subset=['Cores', 'Chips', 'MemoSize_GB_',  'DiskSize_TB_'])"
   ]
  },
  {
   "cell_type": "code",
   "execution_count": 51,
   "id": "5e99202d-db25-433c-9dfa-d1d79b697f95",
   "metadata": {
    "tags": []
   },
   "outputs": [],
   "source": [
    "# #同tag其他机子\n",
    "# data=client.query_dataframe(\"\"\"select * from mach M1, tags T ,(SELECT * FROM  mach  where mach.machid={}) \n",
    "# M2 where T.`L.C.Processor`=M2.cpu and M1.cpu=M2.cpu\"\"\".format(machid))\n",
    "# idx=data[['System']].drop_duplicates().index"
   ]
  },
  {
   "cell_type": "code",
   "execution_count": 52,
   "id": "a755db69-cb7a-48df-ac5d-235b380361db",
   "metadata": {},
   "outputs": [
    {
     "data": {
      "text/plain": [
       "'L.C.Processor, perl_tag, gnu_tag, route_tag, discrete_tag, xml_tag, video_tag, aichess_tag, aimc_tag, aisudoku_tag, compression_tag, explosion_tag, physics_tag, molecular_tag, biomedical_tag, ray_tag, fluid_tag, weather_tag, render_3D_tag, atmosphere_tag, climateocean_tag, image_tag, electro_tag, regionalocean_tag'"
      ]
     },
     "execution_count": 52,
     "metadata": {},
     "output_type": "execute_result"
    }
   ],
   "source": [
    "', '.join([i[0] for i in client.execute(\"SELECT COLUMN_NAME, DATA_TYPE, IS_NULLABLE, COLUMN_DEFAULT FROM INFORMATION_SCHEMA.COLUMNS WHERE table_name='tags'\")])"
   ]
  },
  {
   "cell_type": "code",
   "execution_count": 53,
   "id": "121635da-a73b-4344-873a-bb1647f400d6",
   "metadata": {},
   "outputs": [
    {
     "data": {
      "text/plain": [
       "'machid, Vendor, System, Cores, Chips, Memory, MemoSize(GB), MemoNum, Storage, DiskSize(TB), SSD, OperatingSystem, OS, OSVersion, KernelVersion, FileSystem, Compiler, FC, FV, CC, CV, C++C, C++V, cpuid, cpu'"
      ]
     },
     "execution_count": 53,
     "metadata": {},
     "output_type": "execute_result"
    }
   ],
   "source": [
    "', '.join([i[0] for i in client.execute(\"SELECT COLUMN_NAME, DATA_TYPE, IS_NULLABLE, COLUMN_DEFAULT FROM INFORMATION_SCHEMA.COLUMNS WHERE table_name='mach'\")])"
   ]
  },
  {
   "cell_type": "code",
   "execution_count": 68,
   "id": "7f1bcea1-42a0-4c32-b8ef-c1c251284ba9",
   "metadata": {
    "tags": []
   },
   "outputs": [],
   "source": [
    "tags_tmp = '''L.C.Processor, perl_tag, gnu_tag, route_tag, discrete_tag, xml_tag, video_tag, aichess_tag, aimc_tag, aisudoku_tag, compression_tag, explosion_tag, physics_tag, molecular_tag, biomedical_tag, ray_tag, fluid_tag, weather_tag, render_3D_tag, atmosphere_tag, climateocean_tag, image_tag, electro_tag, regionalocean_tag'''\n",
    "tags_tmp = ', '.join(['T.`' + i + '`' for i in tags_tmp.split(', ')])"
   ]
  },
  {
   "cell_type": "code",
   "execution_count": 76,
   "id": "ce717fbd-cfb1-44ce-b602-b09c5851f7e9",
   "metadata": {},
   "outputs": [
    {
     "data": {
      "text/plain": [
       "'(select T.`L.C.Processor`, T.`perl_tag`, T.`gnu_tag`, T.`route_tag`, T.`discrete_tag`, T.`xml_tag`, T.`video_tag`, T.`aichess_tag`, T.`aimc_tag`, T.`aisudoku_tag`, T.`compression_tag`, T.`explosion_tag`, T.`physics_tag`, T.`molecular_tag`, T.`biomedical_tag`, T.`ray_tag`, T.`fluid_tag`, T.`weather_tag`, T.`render_3D_tag`, T.`atmosphere_tag`, T.`climateocean_tag`, T.`image_tag`, T.`electro_tag`, T.`regionalocean_tag` from mach M1 left outer join tags T on M1.cpu == T.`L.C.Processor` where M1.machid == 2)'"
      ]
     },
     "execution_count": 76,
     "metadata": {},
     "output_type": "execute_result"
    }
   ],
   "source": [
    "target_machid = 2\n",
    "q = '''(select ''' + tags_tmp + ''' from mach M1 left outer join tags T on M1.cpu == T.`L.C.Processor` where M1.machid == {})'''.format(target_machid)\n",
    "q"
   ]
  },
  {
   "cell_type": "code",
   "execution_count": 77,
   "id": "8a379616-8c8b-40bb-a25d-3705b7184617",
   "metadata": {},
   "outputs": [],
   "source": [
    "tmp_l = client.execute(q)"
   ]
  },
  {
   "cell_type": "code",
   "execution_count": 78,
   "id": "776eb41f-575e-4c75-aa17-c2a1c05c9223",
   "metadata": {},
   "outputs": [
    {
     "data": {
      "text/plain": [
       "1"
      ]
     },
     "execution_count": 78,
     "metadata": {},
     "output_type": "execute_result"
    }
   ],
   "source": [
    "len(tmp_l)"
   ]
  },
  {
   "cell_type": "code",
   "execution_count": 79,
   "id": "ec4d5605-6b89-4f27-a7df-5ba90ae6889d",
   "metadata": {
    "tags": []
   },
   "outputs": [
    {
     "data": {
      "text/plain": [
       "[array(['Intel Xeon Bronze 3206R', '0', '0', '0', '0', '0', '0', '0', '0',\n",
       "        '0', '0', '0', '0', '0', '0', '0', '0', '0', '0', '0', '0', '0',\n",
       "        '0', '0'], dtype='<U23')]"
      ]
     },
     "execution_count": 79,
     "metadata": {},
     "output_type": "execute_result"
    }
   ],
   "source": [
    "tmp_l"
   ]
  },
  {
   "cell_type": "code",
   "execution_count": null,
   "id": "01ea843d-7f3a-43e7-a88d-cf9fec442b2f",
   "metadata": {},
   "outputs": [],
   "source": []
  }
 ],
 "metadata": {
  "kernelspec": {
   "display_name": "Python 3 (ipykernel)",
   "language": "python",
   "name": "python3"
  },
  "language_info": {
   "codemirror_mode": {
    "name": "ipython",
    "version": 3
   },
   "file_extension": ".py",
   "mimetype": "text/x-python",
   "name": "python",
   "nbconvert_exporter": "python",
   "pygments_lexer": "ipython3",
   "version": "3.9.12"
  }
 },
 "nbformat": 4,
 "nbformat_minor": 5
}

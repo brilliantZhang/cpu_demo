{
 "cells": [
  {
   "cell_type": "code",
   "execution_count": 1,
   "id": "e40b7486-ff1e-4409-8b2e-ae49a71df68c",
   "metadata": {},
   "outputs": [],
   "source": [
    "import pandas as pd\n",
    "import json\n",
    "import numpy as np\n",
    "import datetime\n",
    "from clickhouse_driver import Client\n",
    "client = Client(host='localhost', settings={'use_numpy': True})"
   ]
  },
  {
   "cell_type": "code",
   "execution_count": 3,
   "id": "580998f6-7fd0-408c-a1cf-15dddcb59159",
   "metadata": {},
   "outputs": [],
   "source": [
    "micro=['648.exchange2_s', '607.cactuBSSN_s', '505.mcf_r', '508.namd_r',\n",
    "   '627.cam4_s', '619.lbm_s', '631.deepsjeng_s',\n",
    "   '526.blender_r', '520.omnetpp_r', '511.povray_r', '500.perlbench_r',\n",
    "   '507.cactuBSSN_r', '523.xalancbmk_r',\n",
    "   '510.parest_r', '603.bwaves_s', '649.fotonik3d_s', '557.xz_r',\n",
    "   '527.cam4_r', '531.deepsjeng_r', '623.xalancbmk_s', '525.x264_r',\n",
    "   '605.mcf_s', '644.nab_s', '519.lbm_r', '538.imagick_r', '641.leela_s',\n",
    "   '628.pop2_s', '638.imagick_s', '541.leela_r', '625.x264_s', '602.gcc_s',\n",
    "   '600.perlbench_s', '620.omnetpp_s', '621.wrf_s', '657.xz_s',\n",
    "   '521.wrf_r', '502.gcc_r', '503.bwaves_r', '654.roms_s']\n",
    "app2score={'Perl interpreter': ['500.perlbench_r', '600.perlbench_s'],\n",
    "    'GNU C compiler': ['502.gcc_r', '602.gcc_s'],\n",
    "    'Route planning': ['505.mcf_r', '605.mcf_s'],\n",
    "    'Discrete Event simulation - computer network': ['520.omnetpp_r',\n",
    "    '620.omnetpp_s'],\n",
    "    'XML to HTML conversion via XSLT': ['523.xalancbmk_r', '623.xalancbmk_s'],\n",
    "    'Video compression': ['525.x264_r', '625.x264_s'],\n",
    "    'Artificial Intelligence: alpha-beta tree search (Chess)': ['531.deepsjeng_r',\n",
    "    '631.deepsjeng_s'],\n",
    "    'Artificial Intelligence: Monte Carlo tree search (Go)': ['541.leela_r',\n",
    "    '641.leela_s'],\n",
    "    'Artificial Intelligence: recursive solution generator (Sudoku)': ['648.exchange2_s'],\n",
    "    'General data compression': ['557.xz_r', '657.xz_s'],\n",
    "    'Explosion modeling': ['503.bwaves_r', '603.bwaves_s'],\n",
    "    'Physics: relativity': ['507.cactuBSSN_r', '607.cactuBSSN_s'],\n",
    "    'Molecular dynamics': ['508.namd_r', '644.nab_s'],\n",
    "    'Biomedical imaging: optical tomography with finite elements': ['510.parest_r'],\n",
    "    'Ray tracing': ['511.povray_r'],\n",
    "    'Fluid dynamics': ['519.lbm_r', '619.lbm_s'],\n",
    "    'Weather forecasting': ['521.wrf_r', '621.wrf_s'],\n",
    "    '3D rendering and animation': ['526.blender_r'],\n",
    "    'Atmosphere modeling': ['527.cam4_r', '627.cam4_s'],\n",
    "    'Wide-scale ocean modeling (climate level)': ['628.pop2_s'],\n",
    "    'Image manipulation': ['538.imagick_r', '638.imagick_s'],\n",
    "    'Computational Electromagnetics': ['649.fotonik3d_s'],\n",
    "    'Regional ocean modeling': [ '654.roms_s']}\n",
    "app2tag = {\n",
    "    \"Perl interpreter\": 'perl_tag',\n",
    "    \"GNU C compiler\": 'gnu_tag',\n",
    "    \"Route planning\": 'route_tag',\n",
    "    \"Discrete Event simulation - computer network\": 'discrete_tag',\n",
    "    \"XML to HTML conversion via XSLT\": 'xml_tag',\n",
    "    \"Video compression\": 'video_tag',\n",
    "    \"Artificial Intelligence: alpha-beta tree search (Chess)\": 'aichess_tag',\n",
    "    \"Artificial Intelligence: Monte Carlo tree search (Go)\": 'aimc_tag',\n",
    "    \"Artificial Intelligence: recursive solution generator (Sudoku)\": 'aisudoku_tag',\n",
    "    \"General data compression\": 'compression_tag',\n",
    "    \"Explosion modeling\": 'explosion_tag',\n",
    "    \"Physics: relativity\": 'physics_tag',\n",
    "    \"Molecular dynamics\": 'molecular_tag',\n",
    "    \"Biomedical imaging: optical tomography with finite elements\": 'biomedical_tag',\n",
    "    \"Ray tracing\": 'ray_tag',\n",
    "    \"Fluid dynamics\": 'fluid_tag',\n",
    "    \"Weather forecasting\": 'weather_tag', \n",
    "    \"3D rendering and animation\": 'render_3D_tag',\n",
    "    \"Atmosphere modeling\": 'atmosphere_tag',\n",
    "    \"Wide-scale ocean modeling (climate level)\": 'climateocean_tag',\n",
    "    \"Image manipulation\": 'image_tag',\n",
    "    \"Computational Electromagnetics\": 'electro_tag',\n",
    "    \"Regional ocean modeling\": 'regionalocean_tag'\n",
    "}"
   ]
  },
  {
   "cell_type": "code",
   "execution_count": 12,
   "id": "d5458000-c9e2-4f19-a1ec-3bd2627429d3",
   "metadata": {},
   "outputs": [
    {
     "data": {
      "text/plain": [
       "[]"
      ]
     },
     "execution_count": 12,
     "metadata": {},
     "output_type": "execute_result"
    }
   ],
   "source": [
    "client.execute(\"\"\"drop  table if exists tmp\"\"\")\n",
    "client.execute(\"\"\"drop  table if exists tmp2\"\"\")\n",
    "client.execute(\"\"\"drop  table if exists tmp3\"\"\")\n",
    "client.execute(\"\"\"drop  table if exists tags\"\"\")"
   ]
  },
  {
   "cell_type": "code",
   "execution_count": 13,
   "id": "b2829a9d-3d07-41a4-a29d-671a6111a4bd",
   "metadata": {},
   "outputs": [
    {
     "name": "stdout",
     "output_type": "stream",
     "text": [
      "['cpu', 'mach', 'test']\n"
     ]
    }
   ],
   "source": [
    "print([i[0] for i in client.execute(\"\"\"show tables\"\"\")])"
   ]
  },
  {
   "cell_type": "code",
   "execution_count": 14,
   "id": "1de83a42-d835-42e9-a7ad-ce885c1e3062",
   "metadata": {
    "tags": []
   },
   "outputs": [
    {
     "data": {
      "text/plain": [
       "[array([2.21336384])]"
      ]
     },
     "execution_count": 14,
     "metadata": {},
     "output_type": "execute_result"
    }
   ],
   "source": [
    "client.execute('''select pow(arrayProduct([1, 2, 3, 4]), 1/length([1, 2 , 3 , 4]))''')"
   ]
  },
  {
   "cell_type": "code",
   "execution_count": 5,
   "id": "198f924c-ea2e-4d0c-94be-c3e243644935",
   "metadata": {
    "tags": []
   },
   "outputs": [
    {
     "name": "stdout",
     "output_type": "stream",
     "text": [
      "CREATE TABLE default.tmp ENGINE = Memory AS SELECT * FROM default.test T left join default.mach M on T.machid=M.machid left join default.cpu C on M.cpuid=C.cpuid\n",
      "CREATE TABLE tmp2 ENGINE = Memory AS SELECT `C.Processor`,pow(arrayProduct(arrayFilter(x -> x != 0, groupArray(divide(`T.648.exchange2_s`, `M.Chips`)))), 1 / length(arrayFilter(x -> x != 0, groupArray(`T.648.exchange2_s`)))) `648.exchange2_s_geomean` ,pow(arrayProduct(arrayFilter(x -> x != 0, groupArray(divide(`T.607.cactuBSSN_s`, `M.Chips`)))), 1 / length(arrayFilter(x -> x != 0, groupArray(`T.607.cactuBSSN_s`)))) `607.cactuBSSN_s_geomean` ,pow(arrayProduct(arrayFilter(x -> x != 0, groupArray(divide(`T.505.mcf_r`, `M.Chips`)))), 1 / length(arrayFilter(x -> x != 0, groupArray(`T.505.mcf_r`)))) `505.mcf_r_geomean` ,pow(arrayProduct(arrayFilter(x -> x != 0, groupArray(divide(`T.508.namd_r`, `M.Chips`)))), 1 / length(arrayFilter(x -> x != 0, groupArray(`T.508.namd_r`)))) `508.namd_r_geomean` ,pow(arrayProduct(arrayFilter(x -> x != 0, groupArray(divide(`T.627.cam4_s`, `M.Chips`)))), 1 / length(arrayFilter(x -> x != 0, groupArray(`T.627.cam4_s`)))) `627.cam4_s_geomean` ,pow(arrayProduct(arrayFilter(x -> x != 0, groupArray(divide(`T.619.lbm_s`, `M.Chips`)))), 1 / length(arrayFilter(x -> x != 0, groupArray(`T.619.lbm_s`)))) `619.lbm_s_geomean` ,pow(arrayProduct(arrayFilter(x -> x != 0, groupArray(divide(`T.631.deepsjeng_s`, `M.Chips`)))), 1 / length(arrayFilter(x -> x != 0, groupArray(`T.631.deepsjeng_s`)))) `631.deepsjeng_s_geomean` ,pow(arrayProduct(arrayFilter(x -> x != 0, groupArray(divide(`T.526.blender_r`, `M.Chips`)))), 1 / length(arrayFilter(x -> x != 0, groupArray(`T.526.blender_r`)))) `526.blender_r_geomean` ,pow(arrayProduct(arrayFilter(x -> x != 0, groupArray(divide(`T.520.omnetpp_r`, `M.Chips`)))), 1 / length(arrayFilter(x -> x != 0, groupArray(`T.520.omnetpp_r`)))) `520.omnetpp_r_geomean` ,pow(arrayProduct(arrayFilter(x -> x != 0, groupArray(divide(`T.511.povray_r`, `M.Chips`)))), 1 / length(arrayFilter(x -> x != 0, groupArray(`T.511.povray_r`)))) `511.povray_r_geomean` ,pow(arrayProduct(arrayFilter(x -> x != 0, groupArray(divide(`T.500.perlbench_r`, `M.Chips`)))), 1 / length(arrayFilter(x -> x != 0, groupArray(`T.500.perlbench_r`)))) `500.perlbench_r_geomean` ,pow(arrayProduct(arrayFilter(x -> x != 0, groupArray(divide(`T.507.cactuBSSN_r`, `M.Chips`)))), 1 / length(arrayFilter(x -> x != 0, groupArray(`T.507.cactuBSSN_r`)))) `507.cactuBSSN_r_geomean` ,pow(arrayProduct(arrayFilter(x -> x != 0, groupArray(divide(`T.523.xalancbmk_r`, `M.Chips`)))), 1 / length(arrayFilter(x -> x != 0, groupArray(`T.523.xalancbmk_r`)))) `523.xalancbmk_r_geomean` ,pow(arrayProduct(arrayFilter(x -> x != 0, groupArray(divide(`T.510.parest_r`, `M.Chips`)))), 1 / length(arrayFilter(x -> x != 0, groupArray(`T.510.parest_r`)))) `510.parest_r_geomean` ,pow(arrayProduct(arrayFilter(x -> x != 0, groupArray(divide(`T.603.bwaves_s`, `M.Chips`)))), 1 / length(arrayFilter(x -> x != 0, groupArray(`T.603.bwaves_s`)))) `603.bwaves_s_geomean` ,pow(arrayProduct(arrayFilter(x -> x != 0, groupArray(divide(`T.649.fotonik3d_s`, `M.Chips`)))), 1 / length(arrayFilter(x -> x != 0, groupArray(`T.649.fotonik3d_s`)))) `649.fotonik3d_s_geomean` ,pow(arrayProduct(arrayFilter(x -> x != 0, groupArray(divide(`T.557.xz_r`, `M.Chips`)))), 1 / length(arrayFilter(x -> x != 0, groupArray(`T.557.xz_r`)))) `557.xz_r_geomean` ,pow(arrayProduct(arrayFilter(x -> x != 0, groupArray(divide(`T.527.cam4_r`, `M.Chips`)))), 1 / length(arrayFilter(x -> x != 0, groupArray(`T.527.cam4_r`)))) `527.cam4_r_geomean` ,pow(arrayProduct(arrayFilter(x -> x != 0, groupArray(divide(`T.531.deepsjeng_r`, `M.Chips`)))), 1 / length(arrayFilter(x -> x != 0, groupArray(`T.531.deepsjeng_r`)))) `531.deepsjeng_r_geomean` ,pow(arrayProduct(arrayFilter(x -> x != 0, groupArray(divide(`T.623.xalancbmk_s`, `M.Chips`)))), 1 / length(arrayFilter(x -> x != 0, groupArray(`T.623.xalancbmk_s`)))) `623.xalancbmk_s_geomean` ,pow(arrayProduct(arrayFilter(x -> x != 0, groupArray(divide(`T.525.x264_r`, `M.Chips`)))), 1 / length(arrayFilter(x -> x != 0, groupArray(`T.525.x264_r`)))) `525.x264_r_geomean` ,pow(arrayProduct(arrayFilter(x -> x != 0, groupArray(divide(`T.605.mcf_s`, `M.Chips`)))), 1 / length(arrayFilter(x -> x != 0, groupArray(`T.605.mcf_s`)))) `605.mcf_s_geomean` ,pow(arrayProduct(arrayFilter(x -> x != 0, groupArray(divide(`T.644.nab_s`, `M.Chips`)))), 1 / length(arrayFilter(x -> x != 0, groupArray(`T.644.nab_s`)))) `644.nab_s_geomean` ,pow(arrayProduct(arrayFilter(x -> x != 0, groupArray(divide(`T.519.lbm_r`, `M.Chips`)))), 1 / length(arrayFilter(x -> x != 0, groupArray(`T.519.lbm_r`)))) `519.lbm_r_geomean` ,pow(arrayProduct(arrayFilter(x -> x != 0, groupArray(divide(`T.538.imagick_r`, `M.Chips`)))), 1 / length(arrayFilter(x -> x != 0, groupArray(`T.538.imagick_r`)))) `538.imagick_r_geomean` ,pow(arrayProduct(arrayFilter(x -> x != 0, groupArray(divide(`T.641.leela_s`, `M.Chips`)))), 1 / length(arrayFilter(x -> x != 0, groupArray(`T.641.leela_s`)))) `641.leela_s_geomean` ,pow(arrayProduct(arrayFilter(x -> x != 0, groupArray(divide(`T.628.pop2_s`, `M.Chips`)))), 1 / length(arrayFilter(x -> x != 0, groupArray(`T.628.pop2_s`)))) `628.pop2_s_geomean` ,pow(arrayProduct(arrayFilter(x -> x != 0, groupArray(divide(`T.638.imagick_s`, `M.Chips`)))), 1 / length(arrayFilter(x -> x != 0, groupArray(`T.638.imagick_s`)))) `638.imagick_s_geomean` ,pow(arrayProduct(arrayFilter(x -> x != 0, groupArray(divide(`T.541.leela_r`, `M.Chips`)))), 1 / length(arrayFilter(x -> x != 0, groupArray(`T.541.leela_r`)))) `541.leela_r_geomean` ,pow(arrayProduct(arrayFilter(x -> x != 0, groupArray(divide(`T.625.x264_s`, `M.Chips`)))), 1 / length(arrayFilter(x -> x != 0, groupArray(`T.625.x264_s`)))) `625.x264_s_geomean` ,pow(arrayProduct(arrayFilter(x -> x != 0, groupArray(divide(`T.602.gcc_s`, `M.Chips`)))), 1 / length(arrayFilter(x -> x != 0, groupArray(`T.602.gcc_s`)))) `602.gcc_s_geomean` ,pow(arrayProduct(arrayFilter(x -> x != 0, groupArray(divide(`T.600.perlbench_s`, `M.Chips`)))), 1 / length(arrayFilter(x -> x != 0, groupArray(`T.600.perlbench_s`)))) `600.perlbench_s_geomean` ,pow(arrayProduct(arrayFilter(x -> x != 0, groupArray(divide(`T.620.omnetpp_s`, `M.Chips`)))), 1 / length(arrayFilter(x -> x != 0, groupArray(`T.620.omnetpp_s`)))) `620.omnetpp_s_geomean` ,pow(arrayProduct(arrayFilter(x -> x != 0, groupArray(divide(`T.621.wrf_s`, `M.Chips`)))), 1 / length(arrayFilter(x -> x != 0, groupArray(`T.621.wrf_s`)))) `621.wrf_s_geomean` ,pow(arrayProduct(arrayFilter(x -> x != 0, groupArray(divide(`T.657.xz_s`, `M.Chips`)))), 1 / length(arrayFilter(x -> x != 0, groupArray(`T.657.xz_s`)))) `657.xz_s_geomean` ,pow(arrayProduct(arrayFilter(x -> x != 0, groupArray(divide(`T.521.wrf_r`, `M.Chips`)))), 1 / length(arrayFilter(x -> x != 0, groupArray(`T.521.wrf_r`)))) `521.wrf_r_geomean` ,pow(arrayProduct(arrayFilter(x -> x != 0, groupArray(divide(`T.502.gcc_r`, `M.Chips`)))), 1 / length(arrayFilter(x -> x != 0, groupArray(`T.502.gcc_r`)))) `502.gcc_r_geomean` ,pow(arrayProduct(arrayFilter(x -> x != 0, groupArray(divide(`T.503.bwaves_r`, `M.Chips`)))), 1 / length(arrayFilter(x -> x != 0, groupArray(`T.503.bwaves_r`)))) `503.bwaves_r_geomean` ,pow(arrayProduct(arrayFilter(x -> x != 0, groupArray(divide(`T.654.roms_s`, `M.Chips`)))), 1 / length(arrayFilter(x -> x != 0, groupArray(`T.654.roms_s`)))) `654.roms_s_geomean`  FROM tmp GROUP BY `C.Processor`\n",
      "CREATE TABLE tmp3 ENGINE = Memory AS select `C.Processor`,`500.perlbench_r_geomean` + `600.perlbench_s_geomean` `Perl interpreter`,`502.gcc_r_geomean` + `602.gcc_s_geomean` `GNU C compiler`,`505.mcf_r_geomean` + `605.mcf_s_geomean` `Route planning`,`520.omnetpp_r_geomean` + `620.omnetpp_s_geomean` `Discrete Event simulation - computer network`,`523.xalancbmk_r_geomean` + `623.xalancbmk_s_geomean` `XML to HTML conversion via XSLT`,`525.x264_r_geomean` + `625.x264_s_geomean` `Video compression`,`531.deepsjeng_r_geomean` + `631.deepsjeng_s_geomean` `Artificial Intelligence: alpha-beta tree search (Chess)`,`541.leela_r_geomean` + `641.leela_s_geomean` `Artificial Intelligence: Monte Carlo tree search (Go)`,`648.exchange2_s_geomean` `Artificial Intelligence: recursive solution generator (Sudoku)`,`557.xz_r_geomean` + `657.xz_s_geomean` `General data compression`,`503.bwaves_r_geomean` + `603.bwaves_s_geomean` `Explosion modeling`,`507.cactuBSSN_r_geomean` + `607.cactuBSSN_s_geomean` `Physics: relativity`,`508.namd_r_geomean` + `644.nab_s_geomean` `Molecular dynamics`,`510.parest_r_geomean` `Biomedical imaging: optical tomography with finite elements`,`511.povray_r_geomean` `Ray tracing`,`519.lbm_r_geomean` + `619.lbm_s_geomean` `Fluid dynamics`,`521.wrf_r_geomean` + `621.wrf_s_geomean` `Weather forecasting`,`526.blender_r_geomean` `3D rendering and animation`,`527.cam4_r_geomean` + `627.cam4_s_geomean` `Atmosphere modeling`,`628.pop2_s_geomean` `Wide-scale ocean modeling (climate level)`,`538.imagick_r_geomean` + `638.imagick_s_geomean` `Image manipulation`,`649.fotonik3d_s_geomean` `Computational Electromagnetics`,`654.roms_s_geomean` `Regional ocean modeling` from tmp2;\n"
     ]
    }
   ],
   "source": [
    "# client.execute(\"\"\"CREATE TABLE default.tmp   ENGINE = Memory AS SELECT * FROM default.test T left join default.mach M\n",
    "                    # on T.machid=M.machid left join default.cpu C on M.cpuid=C.cpuid\"\"\")\n",
    "print(\"\"\"CREATE TABLE default.tmp ENGINE = Memory AS SELECT * FROM default.test T left join default.mach M on T.machid=M.machid left join default.cpu C on M.cpuid=C.cpuid\"\"\")\n",
    "\n",
    "# tmp2:cpu分组后micro均值 - yoyo: 使用了几何平均\n",
    "tmp=','.join(['''pow(arrayProduct(arrayFilter(x -> x != 0, groupArray(divide(`T.{}`, `M.Chips`)))), 1 / length(arrayFilter(x -> x != 0, groupArray(`T.{}`)))) `{}_geomean` '''.format(col,col,col) for col in micro])\n",
    "# client.execute(\"\"\"CREATE TABLE tmp2 ENGINE = Memory AS SELECT `C.Processor`,{} FROM tmp GROUP BY `C.Processor`\"\"\".format(tmp))\n",
    "print(\"\"\"CREATE TABLE tmp2 ENGINE = Memory AS SELECT `C.Processor`,{} FROM tmp GROUP BY `C.Processor`\"\"\".format(tmp))\n",
    "\n",
    "# tmp3:cpu分组后app score均值\n",
    "tmp=','.join([' + '.join(['`{}_geomean`'.format(x) for x in app2score[k]])+' `{}`'.format(k) for k in app2score.keys()])\n",
    "# client.execute(\"\"\"CREATE TABLE tmp3 ENGINE = Memory AS select `C.Processor`,{} from tmp2;\"\"\".format(tmp))\n",
    "print(\"\"\"CREATE TABLE tmp3 ENGINE = Memory AS select `C.Processor`,{} from tmp2;\"\"\".format(tmp))"
   ]
  },
  {
   "cell_type": "code",
   "execution_count": 23,
   "id": "adcbb705-854c-41a0-9912-0bed8d988602",
   "metadata": {},
   "outputs": [
    {
     "name": "stdout",
     "output_type": "stream",
     "text": [
      "Show the infos of 3 tmp tables\n",
      "tmp:\t T.Benchmark, T.machid, T.testid, T.HW Avail, T.SW Avail, T.License, T.TestedBy, T.TestSponsor, T.TestDate, T.Published, T.Updated, T.PeakResult, T.BaseResult, T.EnergyPeakResult, T.EnergyBaseResult, T.531.deepsjeng_r, T.600.perlbench_s, T.625.x264_s, T.510.parest_r, T.500.perlbench_r, T.502.gcc_r, T.607.cactuBSSN_s, T.623.xalancbmk_s, T.619.lbm_s, T.644.nab_s, T.602.gcc_s, T.505.mcf_r, T.649.fotonik3d_s, T.507.cactuBSSN_r, T.654.roms_s, T.557.xz_r, T.605.mcf_s, T.525.x264_r, T.511.povray_r, T.638.imagick_s, T.621.wrf_s, T.541.leela_r, T.520.omnetpp_r, T.508.namd_r, T.631.deepsjeng_s, T.641.leela_s, T.503.bwaves_r, T.627.cam4_s, T.657.xz_s, T.648.exchange2_s, T.538.imagick_r, T.523.xalancbmk_r, T.548.exchange2_r, T.521.wrf_r, T.519.lbm_r, T.628.pop2_s, T.526.blender_r, T.603.bwaves_s, T.527.cam4_r, T.620.omnetpp_s, M.machid, M.Vendor, M.System, M.Cores, M.Chips, M.Memory, M.MemoSize(GB), M.MemoNum, M.Storage, M.DiskSize(TB), M.SSD, M.OperatingSystem, M.OS, M.OSVersion, M.KernelVersion, M.FileSystem, M.Compiler, M.FC, M.FV, M.CC, M.CV, M.C++C, M.C++V, M.cpuid, M.cpu, C.cpuid, C.Processor, C.ProcessorMHz, C.CPU(s)Orderable, C.Parallel, C.BasePointerSize, C.PeakPointerSize, C.CoresPerCPU, C.L1Dcache(KB), C.L1Icache(KB), C.L2cache(MB), C.L3cache(MB), C.OtherCache \n",
      "tmp2:\t C.Processor, 648.exchange2_s_geomean, 607.cactuBSSN_s_geomean, 505.mcf_r_geomean, 508.namd_r_geomean, 627.cam4_s_geomean, 619.lbm_s_geomean, 631.deepsjeng_s_geomean, 526.blender_r_geomean, 520.omnetpp_r_geomean, 511.povray_r_geomean, 500.perlbench_r_geomean, 507.cactuBSSN_r_geomean, 523.xalancbmk_r_geomean, 510.parest_r_geomean, 603.bwaves_s_geomean, 649.fotonik3d_s_geomean, 557.xz_r_geomean, 527.cam4_r_geomean, 531.deepsjeng_r_geomean, 623.xalancbmk_s_geomean, 525.x264_r_geomean, 605.mcf_s_geomean, 644.nab_s_geomean, 519.lbm_r_geomean, 538.imagick_r_geomean, 641.leela_s_geomean, 628.pop2_s_geomean, 638.imagick_s_geomean, 541.leela_r_geomean, 625.x264_s_geomean, 602.gcc_s_geomean, 600.perlbench_s_geomean, 620.omnetpp_s_geomean, 621.wrf_s_geomean, 657.xz_s_geomean, 521.wrf_r_geomean, 502.gcc_r_geomean, 503.bwaves_r_geomean, 654.roms_s_geomean \n",
      "tmp3:\t C.Processor, Perl interpreter, GNU C compiler, Route planning, Discrete Event simulation - computer network, XML to HTML conversion via XSLT, Video compression, Artificial Intelligence: alpha-beta tree search (Chess), Artificial Intelligence: Monte Carlo tree search (Go), Artificial Intelligence: recursive solution generator (Sudoku), General data compression, Explosion modeling, Physics: relativity, Molecular dynamics, Biomedical imaging: optical tomography with finite elements, Ray tracing, Fluid dynamics, Weather forecasting, 3D rendering and animation, Atmosphere modeling, Wide-scale ocean modeling (climate level), Image manipulation, Computational Electromagnetics, Regional ocean modeling\n"
     ]
    }
   ],
   "source": [
    "print('Show the infos of 3 tmp tables')\n",
    "print('tmp:\\t', ', '.join([i[0] for i in client.execute(\"SELECT COLUMN_NAME, DATA_TYPE, IS_NULLABLE, COLUMN_DEFAULT FROM INFORMATION_SCHEMA.COLUMNS WHERE table_name='tmp'\")]),\n",
    "      '\\ntmp2:\\t', ', '.join([i[0] for i in client.execute(\"SELECT COLUMN_NAME, DATA_TYPE, IS_NULLABLE, COLUMN_DEFAULT FROM INFORMATION_SCHEMA.COLUMNS WHERE table_name='tmp2'\")]),\n",
    "       '\\ntmp3:\\t', ', '.join([i[0] for i in client.execute(\"SELECT COLUMN_NAME, DATA_TYPE, IS_NULLABLE, COLUMN_DEFAULT FROM INFORMATION_SCHEMA.COLUMNS WHERE table_name='tmp3'\")]))"
   ]
  },
  {
   "cell_type": "code",
   "execution_count": 17,
   "id": "1e122191-8508-4435-ac56-1aec651fb6a9",
   "metadata": {},
   "outputs": [
    {
     "name": "stdout",
     "output_type": "stream",
     "text": [
      "['cpu', 'mach', 'test', 'tmp', 'tmp2', 'tmp3']\n"
     ]
    }
   ],
   "source": [
    "print([i[0] for i in client.execute(\"\"\"show tables\"\"\")])"
   ]
  },
  {
   "cell_type": "code",
   "execution_count": 20,
   "id": "67f48e6a-bd76-4ac6-b433-f72f64bf9793",
   "metadata": {
    "collapsed": true,
    "jupyter": {
     "outputs_hidden": true
    },
    "tags": []
   },
   "outputs": [
    {
     "name": "stdout",
     "output_type": "stream",
     "text": [
      "create table tags ENGINE = Memory as select L.`C.Processor`, if(`perl_tag` =='perl_tag', 1, 0) as perl_tag , if(`gnu_tag` =='gnu_tag', 1, 0) as gnu_tag , if(`route_tag` =='route_tag', 1, 0) as route_tag , if(`discrete_tag` =='discrete_tag', 1, 0) as discrete_tag , if(`xml_tag` =='xml_tag', 1, 0) as xml_tag , if(`video_tag` =='video_tag', 1, 0) as video_tag , if(`aichess_tag` =='aichess_tag', 1, 0) as aichess_tag , if(`aimc_tag` =='aimc_tag', 1, 0) as aimc_tag , if(`aisudoku_tag` =='aisudoku_tag', 1, 0) as aisudoku_tag , if(`compression_tag` =='compression_tag', 1, 0) as compression_tag , if(`explosion_tag` =='explosion_tag', 1, 0) as explosion_tag , if(`physics_tag` =='physics_tag', 1, 0) as physics_tag , if(`molecular_tag` =='molecular_tag', 1, 0) as molecular_tag , if(`biomedical_tag` =='biomedical_tag', 1, 0) as biomedical_tag , if(`ray_tag` =='ray_tag', 1, 0) as ray_tag , if(`fluid_tag` =='fluid_tag', 1, 0) as fluid_tag , if(`weather_tag` =='weather_tag', 1, 0) as weather_tag , if(`render_3D_tag` =='render_3D_tag', 1, 0) as render_3D_tag , if(`atmosphere_tag` =='atmosphere_tag', 1, 0) as atmosphere_tag , if(`climateocean_tag` =='climateocean_tag', 1, 0) as climateocean_tag , if(`image_tag` =='image_tag', 1, 0) as image_tag , if(`electro_tag` =='electro_tag', 1, 0) as electro_tag , if(`regionalocean_tag` =='regionalocean_tag', 1, 0) as regionalocean_tag from tmp3 as L left outer join\n",
      "    (SELECT `C.Processor`, `Perl interpreter`, 'perl_tag' as perl_tag\n",
      "        FROM tmp3 where `Perl interpreter` > \n",
      "        (select quantile(0.9)(`Perl interpreter`) from tmp3)\n",
      "    ) as perl_tag_R on L.`C.Processor` == perl_tag_R.`C.Processor`\n",
      " left outer join \n",
      "    (SELECT `C.Processor`, `GNU C compiler`, 'gnu_tag' as gnu_tag\n",
      "        FROM tmp3 where `GNU C compiler` > \n",
      "        (select quantile(0.9)(`GNU C compiler`) from tmp3)\n",
      "    ) as gnu_tag_R on L.`C.Processor` == gnu_tag_R.`C.Processor`\n",
      " left outer join \n",
      "    (SELECT `C.Processor`, `Route planning`, 'route_tag' as route_tag\n",
      "        FROM tmp3 where `Route planning` > \n",
      "        (select quantile(0.9)(`Route planning`) from tmp3)\n",
      "    ) as route_tag_R on L.`C.Processor` == route_tag_R.`C.Processor`\n",
      " left outer join \n",
      "    (SELECT `C.Processor`, `Discrete Event simulation - computer network`, 'discrete_tag' as discrete_tag\n",
      "        FROM tmp3 where `Discrete Event simulation - computer network` > \n",
      "        (select quantile(0.9)(`Discrete Event simulation - computer network`) from tmp3)\n",
      "    ) as discrete_tag_R on L.`C.Processor` == discrete_tag_R.`C.Processor`\n",
      " left outer join \n",
      "    (SELECT `C.Processor`, `XML to HTML conversion via XSLT`, 'xml_tag' as xml_tag\n",
      "        FROM tmp3 where `XML to HTML conversion via XSLT` > \n",
      "        (select quantile(0.9)(`XML to HTML conversion via XSLT`) from tmp3)\n",
      "    ) as xml_tag_R on L.`C.Processor` == xml_tag_R.`C.Processor`\n",
      " left outer join \n",
      "    (SELECT `C.Processor`, `Video compression`, 'video_tag' as video_tag\n",
      "        FROM tmp3 where `Video compression` > \n",
      "        (select quantile(0.9)(`Video compression`) from tmp3)\n",
      "    ) as video_tag_R on L.`C.Processor` == video_tag_R.`C.Processor`\n",
      " left outer join \n",
      "    (SELECT `C.Processor`, `Artificial Intelligence: alpha-beta tree search (Chess)`, 'aichess_tag' as aichess_tag\n",
      "        FROM tmp3 where `Artificial Intelligence: alpha-beta tree search (Chess)` > \n",
      "        (select quantile(0.9)(`Artificial Intelligence: alpha-beta tree search (Chess)`) from tmp3)\n",
      "    ) as aichess_tag_R on L.`C.Processor` == aichess_tag_R.`C.Processor`\n",
      " left outer join \n",
      "    (SELECT `C.Processor`, `Artificial Intelligence: Monte Carlo tree search (Go)`, 'aimc_tag' as aimc_tag\n",
      "        FROM tmp3 where `Artificial Intelligence: Monte Carlo tree search (Go)` > \n",
      "        (select quantile(0.9)(`Artificial Intelligence: Monte Carlo tree search (Go)`) from tmp3)\n",
      "    ) as aimc_tag_R on L.`C.Processor` == aimc_tag_R.`C.Processor`\n",
      " left outer join \n",
      "    (SELECT `C.Processor`, `Artificial Intelligence: recursive solution generator (Sudoku)`, 'aisudoku_tag' as aisudoku_tag\n",
      "        FROM tmp3 where `Artificial Intelligence: recursive solution generator (Sudoku)` > \n",
      "        (select quantile(0.9)(`Artificial Intelligence: recursive solution generator (Sudoku)`) from tmp3)\n",
      "    ) as aisudoku_tag_R on L.`C.Processor` == aisudoku_tag_R.`C.Processor`\n",
      " left outer join \n",
      "    (SELECT `C.Processor`, `General data compression`, 'compression_tag' as compression_tag\n",
      "        FROM tmp3 where `General data compression` > \n",
      "        (select quantile(0.9)(`General data compression`) from tmp3)\n",
      "    ) as compression_tag_R on L.`C.Processor` == compression_tag_R.`C.Processor`\n",
      " left outer join \n",
      "    (SELECT `C.Processor`, `Explosion modeling`, 'explosion_tag' as explosion_tag\n",
      "        FROM tmp3 where `Explosion modeling` > \n",
      "        (select quantile(0.9)(`Explosion modeling`) from tmp3)\n",
      "    ) as explosion_tag_R on L.`C.Processor` == explosion_tag_R.`C.Processor`\n",
      " left outer join \n",
      "    (SELECT `C.Processor`, `Physics: relativity`, 'physics_tag' as physics_tag\n",
      "        FROM tmp3 where `Physics: relativity` > \n",
      "        (select quantile(0.9)(`Physics: relativity`) from tmp3)\n",
      "    ) as physics_tag_R on L.`C.Processor` == physics_tag_R.`C.Processor`\n",
      " left outer join \n",
      "    (SELECT `C.Processor`, `Molecular dynamics`, 'molecular_tag' as molecular_tag\n",
      "        FROM tmp3 where `Molecular dynamics` > \n",
      "        (select quantile(0.9)(`Molecular dynamics`) from tmp3)\n",
      "    ) as molecular_tag_R on L.`C.Processor` == molecular_tag_R.`C.Processor`\n",
      " left outer join \n",
      "    (SELECT `C.Processor`, `Biomedical imaging: optical tomography with finite elements`, 'biomedical_tag' as biomedical_tag\n",
      "        FROM tmp3 where `Biomedical imaging: optical tomography with finite elements` > \n",
      "        (select quantile(0.9)(`Biomedical imaging: optical tomography with finite elements`) from tmp3)\n",
      "    ) as biomedical_tag_R on L.`C.Processor` == biomedical_tag_R.`C.Processor`\n",
      " left outer join \n",
      "    (SELECT `C.Processor`, `Ray tracing`, 'ray_tag' as ray_tag\n",
      "        FROM tmp3 where `Ray tracing` > \n",
      "        (select quantile(0.9)(`Ray tracing`) from tmp3)\n",
      "    ) as ray_tag_R on L.`C.Processor` == ray_tag_R.`C.Processor`\n",
      " left outer join \n",
      "    (SELECT `C.Processor`, `Fluid dynamics`, 'fluid_tag' as fluid_tag\n",
      "        FROM tmp3 where `Fluid dynamics` > \n",
      "        (select quantile(0.9)(`Fluid dynamics`) from tmp3)\n",
      "    ) as fluid_tag_R on L.`C.Processor` == fluid_tag_R.`C.Processor`\n",
      " left outer join \n",
      "    (SELECT `C.Processor`, `Weather forecasting`, 'weather_tag' as weather_tag\n",
      "        FROM tmp3 where `Weather forecasting` > \n",
      "        (select quantile(0.9)(`Weather forecasting`) from tmp3)\n",
      "    ) as weather_tag_R on L.`C.Processor` == weather_tag_R.`C.Processor`\n",
      " left outer join \n",
      "    (SELECT `C.Processor`, `3D rendering and animation`, 'render_3D_tag' as render_3D_tag\n",
      "        FROM tmp3 where `3D rendering and animation` > \n",
      "        (select quantile(0.9)(`3D rendering and animation`) from tmp3)\n",
      "    ) as render_3D_tag_R on L.`C.Processor` == render_3D_tag_R.`C.Processor`\n",
      " left outer join \n",
      "    (SELECT `C.Processor`, `Atmosphere modeling`, 'atmosphere_tag' as atmosphere_tag\n",
      "        FROM tmp3 where `Atmosphere modeling` > \n",
      "        (select quantile(0.9)(`Atmosphere modeling`) from tmp3)\n",
      "    ) as atmosphere_tag_R on L.`C.Processor` == atmosphere_tag_R.`C.Processor`\n",
      " left outer join \n",
      "    (SELECT `C.Processor`, `Wide-scale ocean modeling (climate level)`, 'climateocean_tag' as climateocean_tag\n",
      "        FROM tmp3 where `Wide-scale ocean modeling (climate level)` > \n",
      "        (select quantile(0.9)(`Wide-scale ocean modeling (climate level)`) from tmp3)\n",
      "    ) as climateocean_tag_R on L.`C.Processor` == climateocean_tag_R.`C.Processor`\n",
      " left outer join \n",
      "    (SELECT `C.Processor`, `Image manipulation`, 'image_tag' as image_tag\n",
      "        FROM tmp3 where `Image manipulation` > \n",
      "        (select quantile(0.9)(`Image manipulation`) from tmp3)\n",
      "    ) as image_tag_R on L.`C.Processor` == image_tag_R.`C.Processor`\n",
      " left outer join \n",
      "    (SELECT `C.Processor`, `Computational Electromagnetics`, 'electro_tag' as electro_tag\n",
      "        FROM tmp3 where `Computational Electromagnetics` > \n",
      "        (select quantile(0.9)(`Computational Electromagnetics`) from tmp3)\n",
      "    ) as electro_tag_R on L.`C.Processor` == electro_tag_R.`C.Processor`\n",
      " left outer join \n",
      "    (SELECT `C.Processor`, `Regional ocean modeling`, 'regionalocean_tag' as regionalocean_tag\n",
      "        FROM tmp3 where `Regional ocean modeling` > \n",
      "        (select quantile(0.9)(`Regional ocean modeling`) from tmp3)\n",
      "    ) as regionalocean_tag_R on L.`C.Processor` == regionalocean_tag_R.`C.Processor`\n",
      " settings join_use_nulls = 1;\n"
     ]
    }
   ],
   "source": [
    "q1 = ','.join([''' if(`{}` =='{}', 1, 0) as {} '''.format(app2tag[app_name], app2tag[app_name], app2tag[app_name]) for app_name in app2tag])\n",
    "q2 = ' left outer join '.join(['''\n",
    "    (SELECT `C.Processor`, `{}`, '{}' as {}\n",
    "        FROM tmp3 where `{}` > \n",
    "        (select quantile(0.9)(`{}`) from tmp3)\n",
    "    ) as {}_R on L.`C.Processor` == {}_R.`C.Processor`\n",
    "'''.format(app_name, app2tag[app_name], app2tag[app_name], app_name, app_name, app2tag[app_name], app2tag[app_name]) for app_name in app2tag])\n",
    "q = '''create table tags ENGINE = Memory as select L.`C.Processor`,'''\n",
    "q += q1\n",
    "q += '''from tmp3 as L left outer join'''\n",
    "q += q2\n",
    "q += ''' settings join_use_nulls = 1;'''\n",
    "print(q)"
   ]
  },
  {
   "cell_type": "code",
   "execution_count": 21,
   "id": "69e7bfa8-341b-448b-a0ba-c300b61f01f8",
   "metadata": {
    "tags": []
   },
   "outputs": [
    {
     "data": {
      "text/plain": [
       "[]"
      ]
     },
     "execution_count": 21,
     "metadata": {},
     "output_type": "execute_result"
    }
   ],
   "source": [
    "client.execute(q)"
   ]
  }
 ],
 "metadata": {
  "kernelspec": {
   "display_name": "Python 3 (ipykernel)",
   "language": "python",
   "name": "python3"
  },
  "language_info": {
   "codemirror_mode": {
    "name": "ipython",
    "version": 3
   },
   "file_extension": ".py",
   "mimetype": "text/x-python",
   "name": "python",
   "nbconvert_exporter": "python",
   "pygments_lexer": "ipython3",
   "version": "3.9.12"
  }
 },
 "nbformat": 4,
 "nbformat_minor": 5
}
